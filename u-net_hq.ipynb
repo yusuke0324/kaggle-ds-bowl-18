{
 "cells": [
  {
   "cell_type": "code",
   "execution_count": 35,
   "metadata": {
    "collapsed": false
   },
   "outputs": [
    {
     "name": "stdout",
     "output_type": "stream",
     "text": [
      "The autoreload extension is already loaded. To reload it, use:\n",
      "  %reload_ext autoreload\n"
     ]
    }
   ],
   "source": [
    "import os\n",
    "import sys\n",
    "import random\n",
    "import warnings\n",
    "\n",
    "import numpy as np\n",
    "import pandas as pd\n",
    "\n",
    "\n",
    "import matplotlib.pyplot as plt\n",
    "\n",
    "from tqdm import tqdm\n",
    "from itertools import chain\n",
    "from skimage.io import imread, imshow, imread_collection, concatenate_images\n",
    "from skimage.transform import resize\n",
    "from skimage.morphology import label\n",
    "\n",
    "%matplotlib inline\n",
    "\n",
    "from util import unet\n",
    "%load_ext autoreload\n",
    "%autoreload 2"
   ]
  },
  {
   "cell_type": "code",
   "execution_count": 36,
   "metadata": {
    "collapsed": false
   },
   "outputs": [
    {
     "name": "stdout",
     "output_type": "stream",
     "text": [
      "0, filter 32 number encoders are created\n",
      "1, filter 64 number encoders are created\n",
      "2, filter 128 number encoders are created\n",
      "3, filter 256 number encoders are created\n",
      "0, filter 128 number decoders are created\n",
      "1, filter 64 number decoders are created\n",
      "2, filter 32 number decoders are created\n",
      "3, filter 16 number decoders are created\n"
     ]
    },
    {
     "data": {
      "text/plain": [
       "<keras.engine.training.Model at 0x7fd1efcd6978>"
      ]
     },
     "execution_count": 36,
     "metadata": {},
     "output_type": "execute_result"
    }
   ],
   "source": [
    "unet.unet_model()"
   ]
  },
  {
   "cell_type": "code",
   "execution_count": 37,
   "metadata": {
    "collapsed": false
   },
   "outputs": [],
   "source": [
    "unet_m = _"
   ]
  },
  {
   "cell_type": "code",
   "execution_count": 38,
   "metadata": {
    "collapsed": false
   },
   "outputs": [
    {
     "name": "stdout",
     "output_type": "stream",
     "text": [
      "__________________________________________________________________________________________________\n",
      "Layer (type)                    Output Shape         Param #     Connected to                     \n",
      "==================================================================================================\n",
      "input_layer (InputLayer)        (None, 128, 128, 3)  0                                            \n",
      "__________________________________________________________________________________________________\n",
      "encoder_block_1 (Conv2D)        (None, 128, 128, 16) 448         input_layer[0][0]                \n",
      "__________________________________________________________________________________________________\n",
      "dropout_78 (Dropout)            (None, 128, 128, 16) 0           encoder_block_1[0][0]            \n",
      "__________________________________________________________________________________________________\n",
      "conv2d_51 (Conv2D)              (None, 128, 128, 16) 2320        dropout_78[0][0]                 \n",
      "__________________________________________________________________________________________________\n",
      "max_pooling2d_49 (MaxPooling2D) (None, 64, 64, 16)   0           conv2d_51[0][0]                  \n",
      "__________________________________________________________________________________________________\n",
      "encoder_block_2 (Conv2D)        (None, 64, 64, 32)   4640        max_pooling2d_49[0][0]           \n",
      "__________________________________________________________________________________________________\n",
      "dropout_79 (Dropout)            (None, 64, 64, 32)   0           encoder_block_2[0][0]            \n",
      "__________________________________________________________________________________________________\n",
      "conv2d_52 (Conv2D)              (None, 64, 64, 32)   9248        dropout_79[0][0]                 \n",
      "__________________________________________________________________________________________________\n",
      "max_pooling2d_50 (MaxPooling2D) (None, 32, 32, 32)   0           conv2d_52[0][0]                  \n",
      "__________________________________________________________________________________________________\n",
      "encoder_block_3 (Conv2D)        (None, 32, 32, 64)   18496       max_pooling2d_50[0][0]           \n",
      "__________________________________________________________________________________________________\n",
      "dropout_80 (Dropout)            (None, 32, 32, 64)   0           encoder_block_3[0][0]            \n",
      "__________________________________________________________________________________________________\n",
      "conv2d_53 (Conv2D)              (None, 32, 32, 64)   36928       dropout_80[0][0]                 \n",
      "__________________________________________________________________________________________________\n",
      "max_pooling2d_51 (MaxPooling2D) (None, 16, 16, 64)   0           conv2d_53[0][0]                  \n",
      "__________________________________________________________________________________________________\n",
      "encoder_block_4 (Conv2D)        (None, 16, 16, 128)  73856       max_pooling2d_51[0][0]           \n",
      "__________________________________________________________________________________________________\n",
      "dropout_81 (Dropout)            (None, 16, 16, 128)  0           encoder_block_4[0][0]            \n",
      "__________________________________________________________________________________________________\n",
      "conv2d_54 (Conv2D)              (None, 16, 16, 128)  147584      dropout_81[0][0]                 \n",
      "__________________________________________________________________________________________________\n",
      "max_pooling2d_52 (MaxPooling2D) (None, 8, 8, 128)    0           conv2d_54[0][0]                  \n",
      "__________________________________________________________________________________________________\n",
      "encoder_block_5 (Conv2D)        (None, 8, 8, 256)    295168      max_pooling2d_52[0][0]           \n",
      "__________________________________________________________________________________________________\n",
      "dropout_82 (Dropout)            (None, 8, 8, 256)    0           encoder_block_5[0][0]            \n",
      "__________________________________________________________________________________________________\n",
      "conv2d_55 (Conv2D)              (None, 8, 8, 256)    590080      dropout_82[0][0]                 \n",
      "__________________________________________________________________________________________________\n",
      "decoder_block_1 (Conv2DTranspos (None, 16, 16, 128)  131200      conv2d_55[0][0]                  \n",
      "__________________________________________________________________________________________________\n",
      "concatenate_23 (Concatenate)    (None, 16, 16, 256)  0           decoder_block_1[0][0]            \n",
      "                                                                 conv2d_54[0][0]                  \n",
      "__________________________________________________________________________________________________\n",
      "conv2d_56 (Conv2D)              (None, 16, 16, 128)  295040      concatenate_23[0][0]             \n",
      "__________________________________________________________________________________________________\n",
      "dropout_83 (Dropout)            (None, 16, 16, 128)  0           conv2d_56[0][0]                  \n",
      "__________________________________________________________________________________________________\n",
      "conv2d_57 (Conv2D)              (None, 16, 16, 128)  147584      dropout_83[0][0]                 \n",
      "__________________________________________________________________________________________________\n",
      "decoder_block_2 (Conv2DTranspos (None, 32, 32, 64)   32832       conv2d_57[0][0]                  \n",
      "__________________________________________________________________________________________________\n",
      "concatenate_24 (Concatenate)    (None, 32, 32, 128)  0           decoder_block_2[0][0]            \n",
      "                                                                 conv2d_53[0][0]                  \n",
      "__________________________________________________________________________________________________\n",
      "conv2d_58 (Conv2D)              (None, 32, 32, 64)   73792       concatenate_24[0][0]             \n",
      "__________________________________________________________________________________________________\n",
      "dropout_84 (Dropout)            (None, 32, 32, 64)   0           conv2d_58[0][0]                  \n",
      "__________________________________________________________________________________________________\n",
      "conv2d_59 (Conv2D)              (None, 32, 32, 64)   36928       dropout_84[0][0]                 \n",
      "__________________________________________________________________________________________________\n",
      "decoder_block_3 (Conv2DTranspos (None, 64, 64, 32)   8224        conv2d_59[0][0]                  \n",
      "__________________________________________________________________________________________________\n",
      "concatenate_25 (Concatenate)    (None, 64, 64, 64)   0           decoder_block_3[0][0]            \n",
      "                                                                 conv2d_52[0][0]                  \n",
      "__________________________________________________________________________________________________\n",
      "conv2d_60 (Conv2D)              (None, 64, 64, 32)   18464       concatenate_25[0][0]             \n",
      "__________________________________________________________________________________________________\n",
      "dropout_85 (Dropout)            (None, 64, 64, 32)   0           conv2d_60[0][0]                  \n",
      "__________________________________________________________________________________________________\n",
      "conv2d_61 (Conv2D)              (None, 64, 64, 32)   9248        dropout_85[0][0]                 \n",
      "__________________________________________________________________________________________________\n",
      "decoder_block_4 (Conv2DTranspos (None, 128, 128, 16) 2064        conv2d_61[0][0]                  \n",
      "__________________________________________________________________________________________________\n",
      "concatenate_26 (Concatenate)    (None, 128, 128, 32) 0           decoder_block_4[0][0]            \n",
      "                                                                 conv2d_51[0][0]                  \n",
      "__________________________________________________________________________________________________\n",
      "conv2d_62 (Conv2D)              (None, 128, 128, 16) 4624        concatenate_26[0][0]             \n",
      "__________________________________________________________________________________________________\n",
      "dropout_86 (Dropout)            (None, 128, 128, 16) 0           conv2d_62[0][0]                  \n",
      "__________________________________________________________________________________________________\n",
      "conv2d_63 (Conv2D)              (None, 128, 128, 16) 2320        dropout_86[0][0]                 \n",
      "__________________________________________________________________________________________________\n",
      "conv2d_64 (Conv2D)              (None, 128, 128, 1)  17          conv2d_63[0][0]                  \n",
      "==================================================================================================\n",
      "Total params: 1,941,105\n",
      "Trainable params: 1,941,105\n",
      "Non-trainable params: 0\n",
      "__________________________________________________________________________________________________\n"
     ]
    }
   ],
   "source": [
    "unet_m.summary()"
   ]
  },
  {
   "cell_type": "code",
   "execution_count": 21,
   "metadata": {
    "collapsed": true
   },
   "outputs": [],
   "source": [
    "filter_nums = [16*min(2**i, 8) for i in range(5)]"
   ]
  },
  {
   "cell_type": "code",
   "execution_count": 22,
   "metadata": {
    "collapsed": false
   },
   "outputs": [
    {
     "data": {
      "text/plain": [
       "[16, 32, 64, 128, 128]"
      ]
     },
     "execution_count": 22,
     "metadata": {},
     "output_type": "execute_result"
    }
   ],
   "source": [
    "filter_nums"
   ]
  },
  {
   "cell_type": "code",
   "execution_count": null,
   "metadata": {
    "collapsed": true
   },
   "outputs": [],
   "source": [
    "128 conv 64 conv 32 conv 16 conv 8 conv"
   ]
  }
 ],
 "metadata": {
  "anaconda-cloud": {},
  "kernelspec": {
   "display_name": "Python [Root]",
   "language": "python",
   "name": "Python [Root]"
  },
  "language_info": {
   "codemirror_mode": {
    "name": "ipython",
    "version": 3
   },
   "file_extension": ".py",
   "mimetype": "text/x-python",
   "name": "python",
   "nbconvert_exporter": "python",
   "pygments_lexer": "ipython3",
   "version": "3.5.2"
  }
 },
 "nbformat": 4,
 "nbformat_minor": 2
}
